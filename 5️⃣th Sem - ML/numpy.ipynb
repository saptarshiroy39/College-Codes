{
 "cells": [
  {
   "cell_type": "code",
   "execution_count": 9,
   "id": "9dce6659",
   "metadata": {},
   "outputs": [
    {
     "name": "stdout",
     "output_type": "stream",
     "text": [
      "[1 2 3 4 5]\n"
     ]
    }
   ],
   "source": [
    "import numpy\n",
    "\n",
    "\n",
    "\n",
    "a = numpy.array([1, 2, 3, 4, 5])\n",
    "\n",
    "\n",
    "print(a)"
   ]
  },
  {
   "cell_type": "code",
   "execution_count": 10,
   "id": "1a619d57",
   "metadata": {},
   "outputs": [
    {
     "name": "stdout",
     "output_type": "stream",
     "text": [
      "[ 1  4  9 16 25]\n"
     ]
    }
   ],
   "source": [
    "import numpy\n",
    "\n",
    "\n",
    "\n",
    "a = numpy.array([1, 2, 3, 4, 5])\n",
    "\n",
    "\n",
    "print(a * a)"
   ]
  },
  {
   "cell_type": "code",
   "execution_count": 11,
   "id": "9a488b66",
   "metadata": {},
   "outputs": [
    {
     "name": "stdout",
     "output_type": "stream",
     "text": [
      "[   1    4   27  256 3125]\n"
     ]
    }
   ],
   "source": [
    "import numpy\n",
    "\n",
    "\n",
    "\n",
    "a = numpy.array([1, 2, 3, 4, 5])\n",
    "\n",
    "\n",
    "print(a**a)"
   ]
  },
  {
   "cell_type": "code",
   "execution_count": 12,
   "id": "e7f92da6",
   "metadata": {},
   "outputs": [
    {
     "name": "stdout",
     "output_type": "stream",
     "text": [
      "[1 2 3 4 5]\n"
     ]
    }
   ],
   "source": [
    "import numpy as np\n",
    "\n",
    "\n",
    "\n",
    "a = np.array([1, 2, 3, 4, 5])\n",
    "\n",
    "\n",
    "print(a)"
   ]
  },
  {
   "cell_type": "code",
   "execution_count": 13,
   "id": "6dd618c1",
   "metadata": {},
   "outputs": [
    {
     "name": "stdout",
     "output_type": "stream",
     "text": [
      "2.3.1\n"
     ]
    }
   ],
   "source": [
    "import numpy\n",
    "\n",
    "\n",
    "\n",
    "print(numpy.__version__)"
   ]
  },
  {
   "cell_type": "code",
   "execution_count": 14,
   "id": "d2644e30",
   "metadata": {},
   "outputs": [
    {
     "name": "stdout",
     "output_type": "stream",
     "text": [
      "1\n",
      "[1 2 3]\n",
      "[[1 2 3]\n",
      " [4 5 6]]\n",
      "[[1 2 3]\n",
      " [4 5 6]\n",
      " [7 8 9]]\n",
      "[[[[[1 2 3 4]]]]]\n"
     ]
    }
   ],
   "source": [
    "import numpy as np\n",
    "\n",
    "a = np.array(1)\n",
    "print(a)\n",
    "\n",
    "b = np.array([1, 2, 3])\n",
    "print(b)\n",
    "\n",
    "c = np.array([[1, 2, 3], [4, 5, 6]])\n",
    "print(c)\n",
    "\n",
    "d = np.array([[1, 2, 3], [4, 5, 6], [7, 8, 9]])\n",
    "print(d)\n",
    "\n",
    "e = np.array([1, 2, 3, 4], ndmin=5)\n",
    "print(e)"
   ]
  },
  {
   "cell_type": "code",
   "execution_count": 15,
   "id": "e4e9f0f0",
   "metadata": {},
   "outputs": [
    {
     "name": "stdout",
     "output_type": "stream",
     "text": [
      "Dimensions of a: 0\n",
      "Dimensions of b: 1\n",
      "Dimensions of c: 2\n",
      "Dimensions of d: 2\n",
      "Dimensions of e: 5\n"
     ]
    }
   ],
   "source": [
    "import numpy as np\n",
    "\n",
    "a = np.array(1)\n",
    "b = np.array([1, 2, 3])\n",
    "c = np.array([[1, 2, 3], [4, 5, 6]])\n",
    "d = np.array([[1, 2, 3], [4, 5, 6], [7, 8, 9]])\n",
    "e = np.array([1, 2, 3, 4], ndmin=5)\n",
    "\n",
    "print(\"Dimensions of a:\", a.ndim)\n",
    "print(\"Dimensions of b:\", b.ndim)\n",
    "print(\"Dimensions of c:\", c.ndim)\n",
    "print(\"Dimensions of d:\", d.ndim)\n",
    "print(\"Dimensions of e:\", e.ndim)"
   ]
  },
  {
   "cell_type": "code",
   "execution_count": 16,
   "id": "ffecbaf7",
   "metadata": {},
   "outputs": [
    {
     "name": "stdout",
     "output_type": "stream",
     "text": [
      "Array elements array2D(0, 1):  2\n",
      "Array elements array2D(1, 2):  6\n",
      "Array elements array3D(0, 1, 2):  6\n"
     ]
    }
   ],
   "source": [
    "import numpy as np\n",
    "\n",
    "array2D = np.array([[1, 2, 3], [4, 5, 6]])\n",
    "\n",
    "print(\"Array elements array2D(0, 1): \", array2D[0, 1])\n",
    "print(\"Array elements array2D(1, 2): \", array2D[1, 2])\n",
    "\n",
    "array3D = np.array([[[1, 2, 3], [4, 5, 6]], [[7, 8, 9], [10, 11, 12]]])\n",
    "\n",
    "print(\"Array elements array3D(0, 1, 2): \", array3D[0, 1, 2])"
   ]
  },
  {
   "cell_type": "code",
   "execution_count": 17,
   "id": "108445e0",
   "metadata": {},
   "outputs": [
    {
     "name": "stdout",
     "output_type": "stream",
     "text": [
      "Elements of second row: [ 6  7  8  9 10]\n",
      "Elements of second row: [ 6  7  8  9 10]\n",
      "Elements of fourth column: [4 9]\n"
     ]
    }
   ],
   "source": [
    "import numpy as np\n",
    "\n",
    "array2D = np.array([[1, 2, 3, 4, 5], [6, 7, 8, 9, 10]])\n",
    "\n",
    "print(\"Elements of second row:\", array2D[1])\n",
    "print(\"Elements of second row:\", array2D[1, :])\n",
    "print(\"Elements of fourth column:\", array2D[:, 3])"
   ]
  }
 ],
 "metadata": {
  "kernelspec": {
   "display_name": "Python 3",
   "language": "python",
   "name": "python3"
  },
  "language_info": {
   "codemirror_mode": {
    "name": "ipython",
    "version": 3
   },
   "file_extension": ".py",
   "mimetype": "text/x-python",
   "name": "python",
   "nbconvert_exporter": "python",
   "pygments_lexer": "ipython3",
   "version": "3.13.5"
  }
 },
 "nbformat": 4,
 "nbformat_minor": 5
}
